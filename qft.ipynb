{
 "cells": [
  {
   "cell_type": "code",
   "execution_count": null,
   "id": "24002a88",
   "metadata": {},
   "outputs": [],
   "source": [
    "import qiskit\n",
    "import numpy as np"
   ]
  },
  {
   "cell_type": "code",
   "execution_count": null,
   "id": "1562894c",
   "metadata": {},
   "outputs": [],
   "source": [
    "qiskit.__version__"
   ]
  },
  {
   "cell_type": "markdown",
   "id": "97ea47d1",
   "metadata": {},
   "source": [
    "Nuestro circuito debe de consistir de n+1 qubits, un qubit será el responsable de ser la moneda mientras que los otos n corresponderan al espacio de la caminata, un ciclo de 2^n vértices."
   ]
  },
  {
   "cell_type": "code",
   "execution_count": null,
   "id": "8451ee15",
   "metadata": {},
   "outputs": [],
   "source": [
    "from qiskit import QuantumCircuit\n",
    "\n",
    "n=6 #largo de nuestra caminata\n",
    "circuito=QuantumCircuit(n+1) #nuestro circuito cuántico\n",
    "circuito.draw(output=\"mpl\")"
   ]
  },
  {
   "cell_type": "code",
   "execution_count": null,
   "id": "40fb6ef5",
   "metadata": {},
   "outputs": [],
   "source": [
    "#Dado que el ciclo es invariante bajo rotaciones entonces siempre podemos inicializar en el vértice v=0\n",
    "circuito.barrier()\n",
    "for i in range(n):\n",
    "    circuito.h(i) #cuando el estado inicial es v=0 entonces la transformada de fourier son solo compuertas de hadamard\n",
    "circuito.draw(output=\"mpl\")"
   ]
  },
  {
   "cell_type": "code",
   "execution_count": null,
   "id": "fe80f4fc",
   "metadata": {},
   "outputs": [],
   "source": [
    "circuito.barrier()\n",
    "for i in range(n):\n",
    "    circuito.p((2*np.pi)/2**i,i).inverse()\n",
    "circuito.draw(\"mpl\")"
   ]
  },
  {
   "cell_type": "code",
   "execution_count": null,
   "id": "62f9852f",
   "metadata": {},
   "outputs": [],
   "source": [
    "circuito.barrier()\n",
    "for i in range(1, n):\n",
    "    angle = (2 * np.pi) / (2 ** i)\n",
    "\n",
    "    # Build 1-qubit rotation gate on qubit 0 (dummy circuit)\n",
    "    temp_qc = QuantumCircuit(1)\n",
    "    temp_qc.p(angle, 0)\n",
    "    R = temp_qc.to_gate()\n",
    "\n",
    "    # Controlled version of that gate\n",
    "    cR = R.control(1)\n",
    "\n",
    "    # Apply: control = qubit n, target = i\n",
    "    circuito.append(cR, [n, i])\n",
    "\n",
    "circuito.draw('mpl')"
   ]
  },
  {
   "cell_type": "code",
   "execution_count": null,
   "id": "3151158b",
   "metadata": {},
   "outputs": [],
   "source": [
    "from qiskit import QuantumCircuit\n",
    "from qiskit.circuit.library import QFT\n",
    "\n",
    "# Apply QFT\n",
    "circuito.append(QFT(n).inverse(), range(n))\n",
    "\n",
    "circuito.draw('mpl')"
   ]
  },
  {
   "cell_type": "markdown",
   "id": "5fa4f1ad",
   "metadata": {},
   "source": [
    "Hagamos nuestra caminata en forma, definimos el largo de nuestro ciclo y agregamos la transformada cuántica de fourier inicial"
   ]
  },
  {
   "cell_type": "code",
   "execution_count": 7,
   "id": "338c67e0",
   "metadata": {},
   "outputs": [
    {
     "data": {
      "text/plain": [
       "CircuitInstruction(operation=Instruction(name='barrier', num_qubits=3, num_clbits=0, params=[]), qubits=(<Qubit register=(3, \"q\"), index=0>, <Qubit register=(3, \"q\"), index=1>, <Qubit register=(3, \"q\"), index=2>), clbits=())"
      ]
     },
     "execution_count": 7,
     "metadata": {},
     "output_type": "execute_result"
    }
   ],
   "source": [
    "from qiskit import QuantumCircuit\n",
    "from qiskit.circuit.library import QFT\n",
    "import numpy as np\n",
    "\n",
    "n=2 #largo de nuestra caminata\n",
    "caminata=QuantumCircuit(n+1,n) #nuestro circuito cuántico\n",
    "\n",
    "caminata.append(QFT(n,do_swaps=False),range(n)) #QFT\n",
    "\n",
    "#for i in range(n):\n",
    "    #caminata.h(i)\n",
    "\n",
    "caminata.barrier()\n"
   ]
  },
  {
   "cell_type": "markdown",
   "id": "17f8620e",
   "metadata": {},
   "source": [
    "Ahora creamos la compuerta de \"evolución\""
   ]
  },
  {
   "cell_type": "code",
   "execution_count": 8,
   "id": "425eb3a1",
   "metadata": {},
   "outputs": [],
   "source": [
    "qc=QuantumCircuit(n+1,name=\"U\") \n",
    "\n",
    "#Las compuertas R_i^\\dagger\n",
    "for i in range(n):\n",
    "    qc.p((2*np.pi)/2**i,i).inverse()\n",
    "#Nuestra compuerta de la moneda\n",
    "qc.h(n)\n",
    "#Las compuertas cR_i\n",
    "for i in range(1, n):\n",
    "    temp = QuantumCircuit(1)\n",
    "    temp.p((2 * np.pi) / (2 ** i), 0)\n",
    "    R = temp.to_gate()\n",
    "\n",
    "    cR = R.control(1)\n",
    "\n",
    "    qc.append(cR, [n, i])\n",
    "\n",
    "U=qc.to_gate()"
   ]
  },
  {
   "cell_type": "markdown",
   "id": "0d5c87e2",
   "metadata": {},
   "source": [
    "Implementemoslo en nuestra caminata junto la transformada inversa de fourier"
   ]
  },
  {
   "cell_type": "code",
   "execution_count": 9,
   "id": "b9bf6c9c",
   "metadata": {},
   "outputs": [
    {
     "data": {
      "image/png": "[encoded data removed]",
      "text/plain": [
       "<Figure size 705.552x367.889 with 1 Axes>"
      ]
     },
     "execution_count": 9,
     "metadata": {},
     "output_type": "execute_result"
    }
   ],
   "source": [
    "#Hay que implementar U el número de pasos que queramos hacer\n",
    "t=1\n",
    "for i in range(t):\n",
    "    caminata.append(U, list(range(n + 1)))\n",
    "\n",
    "caminata.barrier()\n",
    "caminata.append(QFT(n,do_swaps=False).inverse(),range(n))\n",
    "caminata.measure(range(n), range(n))\n",
    "caminata.draw(\"mpl\")"
   ]
  },
  {
   "cell_type": "code",
   "execution_count": 5,
   "id": "ac787b25",
   "metadata": {},
   "outputs": [
    {
     "data": {
      "image/png": "[encoded data removed]",
      "text/plain": [
       "<Figure size 640x480 with 1 Axes>"
      ]
     },
     "execution_count": 5,
     "metadata": {},
     "output_type": "execute_result"
    }
   ],
   "source": [
    "from qiskit import transpile\n",
    "from qiskit_aer import Aer\n",
    "from qiskit.visualization import plot_histogram\n",
    "\n",
    "backend = Aer.get_backend('qasm_simulator')\n",
    "qc_compiled = transpile(caminata, backend)\n",
    "job = backend.run(qc_compiled, shots=1024)\n",
    "counts = job.result().get_counts()\n",
    "\n",
    "# Mostrar resultados\n",
    "plot_histogram(counts)"
   ]
  },
  {
   "cell_type": "code",
   "execution_count": 6,
   "id": "3ad99c3d",
   "metadata": {},
   "outputs": [
    {
     "data": {
      "image/png": "[encoded data removed]",
      "text/plain": [
       "<Figure size 1000x500 with 1 Axes>"
      ]
     },
     "execution_count": 6,
     "metadata": {},
     "output_type": "execute_result"
    }
   ],
   "source": [
    "from qiskit import transpile\n",
    "from qiskit_aer import Aer\n",
    "from qiskit.visualization import plot_histogram\n",
    "\n",
    "# Choose backend\n",
    "backend = Aer.get_backend('qasm_simulator')\n",
    "\n",
    "# Compile and run\n",
    "qc_compiled = transpile(caminata, backend)\n",
    "job = backend.run(qc_compiled, shots=1024)\n",
    "counts = job.result().get_counts()\n",
    "\n",
    "decimal_counts = {int(k, 2): v for k, v in counts.items()}\n",
    "\n",
    "\n",
    "plot_histogram(dict(sorted(decimal_counts.items())), figsize=(10, 5))\n"
   ]
  }
 ],
 "metadata": {
  "kernelspec": {
   "display_name": ".venv",
   "language": "python",
   "name": "python3"
  },
  "language_info": {
   "codemirror_mode": {
    "name": "ipython",
    "version": 3
   },
   "file_extension": ".py",
   "mimetype": "text/x-python",
   "name": "python",
   "nbconvert_exporter": "python",
   "pygments_lexer": "ipython3",
   "version": "3.13.2"
  }
 },
 "nbformat": 4,
 "nbformat_minor": 5
}
